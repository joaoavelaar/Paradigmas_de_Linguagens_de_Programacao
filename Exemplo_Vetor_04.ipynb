{
  "nbformat": 4,
  "nbformat_minor": 0,
  "metadata": {
    "colab": {
      "provenance": [],
      "authorship_tag": "ABX9TyN6DVN26BYWXBJsBzF+ZkGa",
      "include_colab_link": true
    },
    "kernelspec": {
      "name": "python3",
      "display_name": "Python 3"
    },
    "language_info": {
      "name": "python"
    }
  },
  "cells": [
    {
      "cell_type": "markdown",
      "metadata": {
        "id": "view-in-github",
        "colab_type": "text"
      },
      "source": [
        "<a href=\"https://colab.research.google.com/github/joaoavelaar/Paradigmas_de_Linguagens_de_Programacao/blob/main/Exemplo_Vetor_04.ipynb\" target=\"_parent\"><img src=\"https://colab.research.google.com/assets/colab-badge.svg\" alt=\"Open In Colab\"/></a>"
      ]
    },
    {
      "cell_type": "code",
      "source": [
        "# Faça um programa em Python que receba 6 numeros inteiros e mostre:\n",
        "#  • Os numeros pares digitados;\n",
        "#  • A soma dos numeros pares digitados;\n",
        "#  • Os numeros   ımpares digitados;\n",
        "#  • A quantidade de numeros  ımpares"
      ],
      "metadata": {
        "id": "dei18tLHqm7l"
      },
      "execution_count": null,
      "outputs": []
    },
    {
      "cell_type": "code",
      "source": [
        "def main():\n",
        "    numeros = []\n",
        "    numeros_pares = []\n",
        "    numeros_impares = []\n",
        "    soma_pares = 0\n",
        "    # Leitura dos elementos do vetor são 06 números\n",
        "    for i in range(6):\n",
        "        numeros.append(int(input(\"Digite um número: \")))\n",
        "    # Identificando números pares e impares e adicionando aos respectivos vetores\n",
        "    for numero in numeros:\n",
        "        if numero % 2 == 0:\n",
        "            numeros_pares.append(numero)\n",
        "            soma_pares += numero\n",
        "        else:\n",
        "            numeros_impares.append(numero)\n",
        "    print(\"Os números pares digitados são:\")\n",
        "    for numero in numeros_pares:\n",
        "        print(numero)\n",
        "\n",
        "    print(\"A soma dos números pares digitados é:\", soma_pares)\n",
        "\n",
        "    print(\"Os números ímpares digitados são:\")\n",
        "    for numero in numeros_impares:\n",
        "        print(numero)\n",
        "\n",
        "    print(\"A quantidade de números ímpares digitados é:\", len(numeros_impares))\n",
        "    print(\"O número de maior valor digitado é:\", max(numeros))\n",
        "    print(\"O número de menor valor digitado é:\", min(numeros))\n",
        "\n",
        "if __name__ == \"__main__\":\n",
        "    main()"
      ],
      "metadata": {
        "colab": {
          "base_uri": "https://localhost:8080/"
        },
        "id": "OAwDomhppOP_",
        "outputId": "c53f61b4-5795-409a-eb45-0b75ad94aada"
      },
      "execution_count": null,
      "outputs": [
        {
          "output_type": "stream",
          "name": "stdout",
          "text": [
            "Digite um número: 0\n",
            "Digite um número: 8\n",
            "Digite um número: 2\n",
            "Digite um número: 4\n",
            "Digite um número: 9\n",
            "Digite um número: 6\n",
            "Os números pares digitados são:\n",
            "0\n",
            "8\n",
            "2\n",
            "4\n",
            "6\n",
            "A soma dos números pares digitados é: 20\n",
            "Os números ímpares digitados são:\n",
            "9\n",
            "A quantidade de números ímpares digitados é: 1\n",
            "O número de maior valor digitados é: 9\n",
            "O número de menor valor digitados é: 0\n"
          ]
        }
      ]
    },
    {
      "cell_type": "code",
      "source": [
        "9"
      ],
      "metadata": {
        "id": "xS_NDUOarbKF"
      },
      "execution_count": null,
      "outputs": []
    }
  ]
}