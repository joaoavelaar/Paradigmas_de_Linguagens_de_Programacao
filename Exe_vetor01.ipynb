{
  "nbformat": 4,
  "nbformat_minor": 0,
  "metadata": {
    "colab": {
      "provenance": [],
      "authorship_tag": "ABX9TyNIWAuqtweiSxlkJTlf971X",
      "include_colab_link": true
    },
    "kernelspec": {
      "name": "python3",
      "display_name": "Python 3"
    },
    "language_info": {
      "name": "python"
    }
  },
  "cells": [
    {
      "cell_type": "markdown",
      "metadata": {
        "id": "view-in-github",
        "colab_type": "text"
      },
      "source": [
        "<a href=\"https://colab.research.google.com/github/joaoavelaar/Paradigmas_de_Linguagens_de_Programacao/blob/main/Exe_vetor01.ipynb\" target=\"_parent\"><img src=\"https://colab.research.google.com/assets/colab-badge.svg\" alt=\"Open In Colab\"/></a>"
      ]
    },
    {
      "cell_type": "code",
      "execution_count": null,
      "metadata": {
        "colab": {
          "base_uri": "https://localhost:8080/"
        },
        "id": "_QeZhlp0inRL",
        "outputId": "217b40b3-5906-4e2d-c4ab-7311abf93f00"
      },
      "outputs": [
        {
          "output_type": "stream",
          "name": "stdout",
          "text": [
            "Digite o  valor da posição 0: 9\n",
            "Digite o  valor da posição 1: 13\n",
            "Digite o  valor da posição 2: 23\n",
            "Digite o  valor da posição 3: 23\n",
            "Digite o  valor da posição 4: 34\n",
            "Digite o  valor da posição 5: 45\n",
            "Digite o  valor da posição 6: 65\n",
            "Digite o  valor da posição 7: 76\n",
            "Digite o valor de X: 6\n",
            "Digite o valor de Y: 1\n",
            "A soma dos valores nas posições X e Y é 78 \n"
          ]
        }
      ],
      "source": [
        "# Lê um vetor de 8 posições e, e seguida,\n",
        "# lê dois valores X e Y quaisquer correspondentes a\n",
        "# duas posições no vetor . O programa estão imprime a soma\n",
        "# dos valores enontrados nas respectivas posições X e Y\n",
        "\n",
        "def main ():\n",
        "  # Declara um vetor de 8 posições\n",
        "  vetor = [0] * 8\n",
        "\n",
        "  # Lê os valores do vetor\n",
        "  for i in range(8):\n",
        "      vetor[i] = int(input(\"Digite o  valor da posição {}: \".format(i)))\n",
        "\n",
        "  # Lê os valores X e Y\n",
        "  x = int(input(\"Digite o valor de X: \"))\n",
        "  y = int(input(\"Digite o valor de Y: \"))\n",
        "\n",
        "  # Calcula a soma dos vetores nas posições X e Y\n",
        "  soma = vetor[x] + vetor[y]\n",
        "\n",
        "  # Imprime a soma\n",
        "  print(\"A soma dos valores nas posições X e Y é {} \".format(soma))\n",
        "\n",
        "if __name__ == \"__main__\":\n",
        "  main()\n"
      ]
    },
    {
      "cell_type": "code",
      "source": [],
      "metadata": {
        "id": "PbNdOUbqlp0a"
      },
      "execution_count": null,
      "outputs": []
    }
  ]
}