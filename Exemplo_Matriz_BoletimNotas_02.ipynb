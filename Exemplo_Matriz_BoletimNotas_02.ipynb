{
  "nbformat": 4,
  "nbformat_minor": 0,
  "metadata": {
    "colab": {
      "provenance": [],
      "authorship_tag": "ABX9TyO0M4Li4i3HtalaeasKr9OF",
      "include_colab_link": true
    },
    "kernelspec": {
      "name": "python3",
      "display_name": "Python 3"
    },
    "language_info": {
      "name": "python"
    }
  },
  "cells": [
    {
      "cell_type": "markdown",
      "metadata": {
        "id": "view-in-github",
        "colab_type": "text"
      },
      "source": [
        "<a href=\"https://colab.research.google.com/github/joaoavelaar/Paradigmas_de_Linguagens_de_Programacao/blob/main/Exemplo_Matriz_BoletimNotas_02.ipynb\" target=\"_parent\"><img src=\"https://colab.research.google.com/assets/colab-badge.svg\" alt=\"Open In Colab\"/></a>"
      ]
    },
    {
      "cell_type": "markdown",
      "source": [
        " Faça um Programa em Python que Leia uma matriz 10 x 3 com as notas de 10 alunos em 3 provas. Em seguida, escreva o numero de alunos cuja pior nota foi na prova 1, o número de alunos cuja pior nota foi na prova 2, e o numero de alunos cuja pior nota foi na prova 3. Em caso de empate das piores notas de um aluno, o critério de desempate  e arbitrário, mas o aluno deve ser contabilizado apenas uma vez.\n"
      ],
      "metadata": {
        "id": "_g949mcHfith"
      }
    },
    {
      "cell_type": "code",
      "execution_count": null,
      "metadata": {
        "colab": {
          "base_uri": "https://localhost:8080/"
        },
        "id": "rWBJcOyafVux",
        "outputId": "0810e5d4-0310-4ead-dfda-647f3945ac70"
      },
      "outputs": [
        {
          "output_type": "stream",
          "name": "stdout",
          "text": [
            "Digite a nota do aluno 0 na prova 1: 10\n",
            "Digite a nota do aluno 0 na prova 2: 8\n",
            "Digite a nota do aluno 0 na prova 3: 2\n",
            "Digite a nota do aluno 1 na prova 1: 7\n",
            "Digite a nota do aluno 1 na prova 2: 4\n",
            "Digite a nota do aluno 1 na prova 3: 9\n",
            "Digite a nota do aluno 2 na prova 1: 2\n",
            "Digite a nota do aluno 2 na prova 2: 5\n",
            "Digite a nota do aluno 2 na prova 3: 7\n",
            "Digite a nota do aluno 3 na prova 1: 2\n",
            "Digite a nota do aluno 3 na prova 2: 2\n",
            "Digite a nota do aluno 3 na prova 3: 10\n",
            "Digite a nota do aluno 4 na prova 1: 5\n",
            "Digite a nota do aluno 4 na prova 2: 4\n",
            "Digite a nota do aluno 4 na prova 3: 7\n",
            "Digite a nota do aluno 5 na prova 1: 9\n",
            "Digite a nota do aluno 5 na prova 2: 6\n",
            "Digite a nota do aluno 5 na prova 3: 2\n",
            "Digite a nota do aluno 6 na prova 1: 6\n",
            "Digite a nota do aluno 6 na prova 2: 4\n",
            "Digite a nota do aluno 6 na prova 3: 7\n",
            "Digite a nota do aluno 7 na prova 1: 8\n",
            "Digite a nota do aluno 7 na prova 2: 5\n",
            "Digite a nota do aluno 7 na prova 3: 6\n",
            "Digite a nota do aluno 8 na prova 1: 9\n",
            "Digite a nota do aluno 8 na prova 2: 7\n",
            "Digite a nota do aluno 8 na prova 3: 4\n",
            "Digite a nota do aluno 9 na prova 1: 1\n",
            "Digite a nota do aluno 9 na prova 2: 5\n",
            "Digite a nota do aluno 9 na prova 3: 0\n",
            "O número de alunos cuja pior nota foi na prova 1 é: 2\n",
            "O número de alunos cuja pior nota foi na prova 2 é: 4\n",
            "O número de alunos cuja pior nota foi na prova 3 é: 4\n"
          ]
        }
      ],
      "source": [
        "# Define a função principal do programa\n",
        "def main():\n",
        "    matriz = []\n",
        "\n",
        "    # Solicita ao usuário as notas de 10 alunos em 3 provas diferentes e armazena em uma matriz\n",
        "    for i in range(10):\n",
        "        matriz.append([int(input(\"Digite a nota do aluno %d na prova 1: \" % i)),\n",
        "                      int(input(\"Digite a nota do aluno %d na prova 2: \" % i)),\n",
        "                      int(input(\"Digite a nota do aluno %d na prova 3: \" % i))])\n",
        "\n",
        "    # Inicializa contadores para contar quantos alunos obtiveram a pior nota em cada prova\n",
        "    alunos_prova_1 = 0\n",
        "    alunos_prova_2 = 0\n",
        "    alunos_prova_3 = 0\n",
        "\n",
        "    # Itera sobre a matriz de notas dos alunos para determinar a pior nota de cada um\n",
        "    for aluno in matriz:\n",
        "        pior_nota = aluno[0]\n",
        "\n",
        "        # Compara a nota com as outras provas para encontrar a pior nota\n",
        "        if pior_nota > aluno[1]:\n",
        "            pior_nota = aluno[1]\n",
        "        if pior_nota > aluno[2]:\n",
        "            pior_nota = aluno[2]\n",
        "\n",
        "        # Conta o aluno cuja pior nota foi na respectiva prova\n",
        "        if pior_nota == aluno[0]:\n",
        "            alunos_prova_1 += 1\n",
        "        elif pior_nota == aluno[1]:\n",
        "            alunos_prova_2 += 1\n",
        "        else:\n",
        "            alunos_prova_3 += 1\n",
        "\n",
        "    # Exibe o número de alunos cuja pior nota foi em cada prova\n",
        "    print(\"O número de alunos cuja pior nota foi na prova 1 é:\", alunos_prova_1)\n",
        "    print(\"O número de alunos cuja pior nota foi na prova 2 é:\", alunos_prova_2)\n",
        "    print(\"O número de alunos cuja pior nota foi na prova 3 é:\", alunos_prova_3)\n",
        "\n",
        "# Verifica se o programa está sendo executado como script principal\n",
        "if __name__ == \"__main__\":\n",
        "    main()"
      ]
    },
    {
      "cell_type": "code",
      "source": [],
      "metadata": {
        "id": "18BYLF10f2j5"
      },
      "execution_count": null,
      "outputs": []
    }
  ]
}