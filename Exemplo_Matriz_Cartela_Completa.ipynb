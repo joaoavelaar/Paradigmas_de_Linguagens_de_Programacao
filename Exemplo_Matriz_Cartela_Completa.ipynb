{
  "nbformat": 4,
  "nbformat_minor": 0,
  "metadata": {
    "colab": {
      "provenance": [],
      "authorship_tag": "ABX9TyObkXftc7MB4K6YFfd/HbLl",
      "include_colab_link": true
    },
    "kernelspec": {
      "name": "python3",
      "display_name": "Python 3"
    },
    "language_info": {
      "name": "python"
    }
  },
  "cells": [
    {
      "cell_type": "markdown",
      "metadata": {
        "id": "view-in-github",
        "colab_type": "text"
      },
      "source": [
        "<a href=\"https://colab.research.google.com/github/joaoavelaar/Paradigmas_de_Linguagens_de_Programacao/blob/main/Exemplo_Matriz_Cartela_Completa.ipynb\" target=\"_parent\"><img src=\"https://colab.research.google.com/assets/colab-badge.svg\" alt=\"Open In Colab\"/></a>"
      ]
    },
    {
      "cell_type": "code",
      "execution_count": null,
      "metadata": {
        "colab": {
          "base_uri": "https://localhost:8080/"
        },
        "id": "HRX2ZaD4xo6e",
        "outputId": "88aeaa8b-ceb4-4890-b531-a490b1755f75"
      },
      "outputs": [
        {
          "output_type": "stream",
          "name": "stdout",
          "text": [
            "Quantas cartelas você deseja gerar? 5\n",
            "\n",
            "Cartela 1:\n",
            "\n",
            "95  16  99  85  35  \n",
            "13  42  14  75  49  \n",
            " 5  22  12  56  76  \n",
            "80  47  89  26  78  \n",
            "67  43  18  10   9  \n",
            "\n",
            "Cartela 2:\n",
            "\n",
            "79  84  14  92  88  \n",
            "83  23  96   4  78  \n",
            "36   3  29  56  48  \n",
            "95  50  93  55  80  \n",
            "63  94  85  25  39  \n",
            "\n",
            "Cartela 3:\n",
            "\n",
            "51  15  40  98  52  \n",
            "96  41  92  63  42  \n",
            "94  80  65   4  19  \n",
            "17  57  50  87  95  \n",
            "28  76  74  48  16  \n",
            "\n",
            "Cartela 4:\n",
            "\n",
            "88   7  79  81  43  \n",
            "17  99  32   0  15  \n",
            "78  75  60   5  48  \n",
            " 6  94  13  25  80  \n",
            "68  44  72   3  28  \n",
            "\n",
            "Cartela 5:\n",
            "\n",
            "76  55  46  29  97  \n",
            "10  38  99  85  14  \n",
            " 8  31  73  87  28  \n",
            "95  26  56  22  43  \n",
            "84  57  66   7  27  \n"
          ]
        }
      ],
      "source": [
        "# Faça um programa em Python para gerar automaticamente numeros entre 0 e 99 de uma cartela de bingo. Sabendo que cada cartela devera conter 5 linhas de 5 numeros, gere estes dados de modo a nao ter numeros repetidos dentro das cartelas. O programa deve exibir na\n",
        "# tela a cartela gerada.\n",
        "\n",
        "\n",
        "# Função para gerar uma cartela de bingo\n",
        "def gerar_cartela():\n",
        "    cartela = []\n",
        "\n",
        "    while len(cartela) < 25:\n",
        "        numero = random.randint(0, 99)\n",
        "        if numero not in cartela:\n",
        "            cartela.append(numero)\n",
        "\n",
        "    return cartela\n",
        "\n",
        "# Função para exibir a cartela de bingo\n",
        "def exibir_cartela(cartela):\n",
        "    for i in range(5):\n",
        "        for j in range(5):\n",
        "            index = i * 5 + j\n",
        "            print(f'{cartela[index]:2}', end='  ')\n",
        "        print()\n",
        "\n",
        "# Função principal\n",
        "def main():\n",
        "    num_cartelas = int(input(\"Quantas cartelas você deseja gerar? \"))\n",
        "\n",
        "    for i in range(num_cartelas):\n",
        "        cartela = gerar_cartela()\n",
        "        print(f'\\nCartela {i + 1}:\\n')\n",
        "        exibir_cartela(cartela)\n",
        "\n",
        "# Verifica se o programa está sendo executado como um script\n",
        "if __name__ == \"__main__\":\n",
        "    main()"
      ]
    },
    {
      "cell_type": "code",
      "source": [],
      "metadata": {
        "id": "MIXuMsS_xvLi"
      },
      "execution_count": null,
      "outputs": []
    }
  ]
}