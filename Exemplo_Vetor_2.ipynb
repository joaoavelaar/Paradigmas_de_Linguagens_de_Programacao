{
  "nbformat": 4,
  "nbformat_minor": 0,
  "metadata": {
    "colab": {
      "provenance": [],
      "authorship_tag": "ABX9TyNbHiw8Qhx4bGD7VPCDrp45",
      "include_colab_link": true
    },
    "kernelspec": {
      "name": "python3",
      "display_name": "Python 3"
    },
    "language_info": {
      "name": "python"
    }
  },
  "cells": [
    {
      "cell_type": "markdown",
      "metadata": {
        "id": "view-in-github",
        "colab_type": "text"
      },
      "source": [
        "<a href=\"https://colab.research.google.com/github/joaoavelaar/Paradigmas_de_Linguagens_de_Programacao/blob/main/Exemplo_Vetor_2.ipynb\" target=\"_parent\"><img src=\"https://colab.research.google.com/assets/colab-badge.svg\" alt=\"Open In Colab\"/></a>"
      ]
    },
    {
      "cell_type": "code",
      "execution_count": null,
      "metadata": {
        "colab": {
          "base_uri": "https://localhost:8080/"
        },
        "id": "Fd-znj06eewY",
        "outputId": "db244a69-6a7a-4303-f4c2-7cc440c30eb7"
      },
      "outputs": [
        {
          "output_type": "stream",
          "name": "stdout",
          "text": [
            "Digite o elemento 0: 0\n",
            "Digite o elemento 1: 20\n",
            "Digite o elemento 2: 4\n",
            "Digite o elemento 3: 34\n",
            "Digite o elemento 4: 2\n",
            "Digite o elemento 5: 6\n",
            "Digite o elemento 6: 8\n",
            "Digite o elemento 7: 94\n",
            "Digite o elemento 8: 43\n",
            "Digite o elemento 9: 54\n",
            "O maior elemento do vetor é 94.\n",
            "O menor elemento do vetor é 0.\n"
          ]
        }
      ],
      "source": [
        "# Faça um programa em Python que receba do usuario\n",
        "# um vetor com 10 posições. Em seguida devera ser\n",
        "# impresso o maior e o menor elemento do vetor.\n",
        "\n",
        "def main():\n",
        "    # inicializar o vetor zerado.\n",
        "    vetor = []\n",
        "    # fazer a leitura e preenchimento dos elementos do vetor.\n",
        "    for i in range(10):\n",
        "        vetor.append(int(input(\"Digite o elemento %d: \" % i)))\n",
        "    # Inicializando as variáveis Maior e Menor.\n",
        "    maior = vetor[0]\n",
        "    menor = vetor[0]\n",
        "    # Fazer o laço para armazenar os conteudos dos\n",
        "    # Elementos nas variáveis maior e menor.\n",
        "    for i in range(1, len(vetor)):\n",
        "        if vetor[i] > maior:\n",
        "            maior = vetor[i]\n",
        "        elif vetor[i] < menor:\n",
        "            menor = vetor[i]\n",
        "    # Exibir o resultado final das variáveis Maior e Menor.\n",
        "    print(\"O maior elemento do vetor é %d.\" % maior)\n",
        "    print(\"O menor elemento do vetor é %d.\" % menor)\n",
        "\n",
        "# Programa Principal para chamar a função main..\n",
        "if __name__ == \"__main__\":\n",
        "    main()\n"
      ]
    },
    {
      "cell_type": "code",
      "source": [],
      "metadata": {
        "id": "1qGEkSpTfHN8"
      },
      "execution_count": null,
      "outputs": []
    }
  ]
}