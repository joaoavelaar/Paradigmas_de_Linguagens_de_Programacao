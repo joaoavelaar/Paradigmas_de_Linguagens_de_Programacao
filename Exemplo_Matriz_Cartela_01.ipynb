{
  "nbformat": 4,
  "nbformat_minor": 0,
  "metadata": {
    "colab": {
      "provenance": [],
      "authorship_tag": "ABX9TyOOK9G3ioXepUkkWXN2Lx0b",
      "include_colab_link": true
    },
    "kernelspec": {
      "name": "python3",
      "display_name": "Python 3"
    },
    "language_info": {
      "name": "python"
    }
  },
  "cells": [
    {
      "cell_type": "markdown",
      "metadata": {
        "id": "view-in-github",
        "colab_type": "text"
      },
      "source": [
        "<a href=\"https://colab.research.google.com/github/joaoavelaar/Paradigmas_de_Linguagens_de_Programacao/blob/main/Exemplo_Matriz_Cartela_01.ipynb\" target=\"_parent\"><img src=\"https://colab.research.google.com/assets/colab-badge.svg\" alt=\"Open In Colab\"/></a>"
      ]
    },
    {
      "cell_type": "code",
      "execution_count": null,
      "metadata": {
        "colab": {
          "base_uri": "https://localhost:8080/"
        },
        "id": "qnNkRzvKs2ij",
        "outputId": "c5b38487-2102-4dcb-f3e9-d57e3d4ce1c7"
      },
      "outputs": [
        {
          "output_type": "stream",
          "name": "stdout",
          "text": [
            "Cartela de bingo:\n",
            "33\n",
            "7\n",
            "57\n",
            "84\n",
            "27\n"
          ]
        }
      ],
      "source": [
        "# Faça um programa em Python para gerar automaticamente numeros entre 0 e 99 de uma cartela de bingo. Sabendo que cada cartela devera conter 5 linhas de 5 numeros, gere estes dados de modo a nao ter numeros repetidos dentro das cartelas. O programa deve exibir na\n",
        "# tela a cartela gerada.\n",
        "\n",
        "import random\n",
        "\n",
        "def gerar_cartela():\n",
        "    numeros = set()\n",
        "    cartela = []\n",
        "    for i in range(5):\n",
        "        numero = random.randint(0, 99)\n",
        "        while numero in numeros:\n",
        "            numero = random.randint(0, 99)\n",
        "        numeros.add(numero)\n",
        "        cartela.append(numero)\n",
        "    return cartela\n",
        "\n",
        "def main():\n",
        "    cartela = gerar_cartela()\n",
        "    print(\"Cartela de bingo:\")\n",
        "    for linha in cartela:\n",
        "        print(linha)\n",
        "\n",
        "\n",
        "if __name__ == \"__main__\":\n",
        "    main()\n"
      ]
    },
    {
      "cell_type": "code",
      "source": [],
      "metadata": {
        "id": "u2osickCtI1Z"
      },
      "execution_count": null,
      "outputs": []
    }
  ]
}