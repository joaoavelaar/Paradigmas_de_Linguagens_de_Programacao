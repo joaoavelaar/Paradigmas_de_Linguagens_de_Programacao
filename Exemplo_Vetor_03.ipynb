{
  "nbformat": 4,
  "nbformat_minor": 0,
  "metadata": {
    "colab": {
      "provenance": [],
      "authorship_tag": "ABX9TyMuYqmQrhw+LLMLJTHdcZpr",
      "include_colab_link": true
    },
    "kernelspec": {
      "name": "python3",
      "display_name": "Python 3"
    },
    "language_info": {
      "name": "python"
    }
  },
  "cells": [
    {
      "cell_type": "markdown",
      "metadata": {
        "id": "view-in-github",
        "colab_type": "text"
      },
      "source": [
        "<a href=\"https://colab.research.google.com/github/joaoavelaar/Paradigmas_de_Linguagens_de_Programacao/blob/main/Exemplo_Vetor_03.ipynb\" target=\"_parent\"><img src=\"https://colab.research.google.com/assets/colab-badge.svg\" alt=\"Open In Colab\"/></a>"
      ]
    },
    {
      "cell_type": "code",
      "execution_count": null,
      "metadata": {
        "colab": {
          "base_uri": "https://localhost:8080/"
        },
        "id": "ntQDNMBPhFJD",
        "outputId": "8d3597a4-1516-4fb5-84a8-aba74fe2e569"
      },
      "outputs": [
        {
          "output_type": "stream",
          "name": "stdout",
          "text": [
            "Digite o elemento 0 do vetor A: 2\n",
            "Digite o elemento 0 do vetor B: 3\n",
            "Digite o elemento 1 do vetor A: 4\n",
            "Digite o elemento 1 do vetor B: 5\n",
            "Digite o elemento 2 do vetor A: 6\n",
            "Digite o elemento 2 do vetor B: 7\n",
            "Digite o elemento 3 do vetor A: 8\n",
            "Digite o elemento 3 do vetor B: 0\n",
            "Digite o elemento 4 do vetor A: 9\n",
            "Digite o elemento 4 do vetor B: 787\n",
            "Digite o elemento 5 do vetor A: 786\n",
            "Digite o elemento 5 do vetor B: 345\n",
            "Digite o elemento 6 do vetor A: 123\n",
            "Digite o elemento 6 do vetor B: 645\n",
            "Digite o elemento 7 do vetor A: 6876\n",
            "Digite o elemento 7 do vetor B: 9897\n",
            "Digite o elemento 8 do vetor A: 546\n",
            "Digite o elemento 8 do vetor B: 3456\n",
            "Digite o elemento 9 do vetor A: 7667\n",
            "Digite o elemento 9 do vetor B: 4545\n",
            "Vetor C:\n",
            "-1\n",
            "-1\n",
            "-1\n",
            "8\n",
            "-778\n",
            "441\n",
            "-522\n",
            "-3021\n",
            "-2910\n",
            "3122\n"
          ]
        }
      ],
      "source": [
        "# Faça um programa em Python que receba do usuario dois vetores, A e B, com 10 numeros inteiros cada. Crie um novo vetor denominado C calculando C = A - B. Mostre na tela os dados\n",
        "# do vetor C.\n",
        "\n",
        "# Define a função principal do programa\n",
        "def main():\n",
        "    vetor_a = []  # Inicializa um vetor vazio A\n",
        "    vetor_b = []  # Inicializa um vetor vazio B\n",
        "    vetor_c = []  # Inicializa um vetor vazio C para armazenar o resultado da subtração\n",
        "\n",
        "    # Solicita ao usuário que insira 10 números inteiros para o vetor A e B e os armazena nos respectivos vetores\n",
        "    for i in range(10):\n",
        "        vetor_a.append(int(input(\"Digite o elemento %d do vetor A: \" % i)))\n",
        "        vetor_b.append(int(input(\"Digite o elemento %d do vetor B: \" % i)))\n",
        "\n",
        "    # Calcula o vetor C, que é a subtração elemento a elemento dos vetores A e B\n",
        "    for i in range(10):\n",
        "        vetor_c.append(vetor_a[i] - vetor_b[i])\n",
        "\n",
        "    # Exibe os elementos do vetor C, que é o resultado da subtração\n",
        "    print(\"Vetor C:\")\n",
        "    for i in range(10):\n",
        "        print(vetor_c[i])\n",
        "\n",
        "# Verifica se o programa está sendo executado como script principal\n",
        "if __name__ == \"__main__\":\n",
        "    main()\n"
      ]
    },
    {
      "cell_type": "code",
      "source": [],
      "metadata": {
        "id": "_YyX-EQXhP0F"
      },
      "execution_count": null,
      "outputs": []
    }
  ]
}