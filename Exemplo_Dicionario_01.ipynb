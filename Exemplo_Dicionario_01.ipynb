{
  "nbformat": 4,
  "nbformat_minor": 0,
  "metadata": {
    "colab": {
      "provenance": [],
      "authorship_tag": "ABX9TyNEgBG8yvlFuILHPNRvByC5",
      "include_colab_link": true
    },
    "kernelspec": {
      "name": "python3",
      "display_name": "Python 3"
    },
    "language_info": {
      "name": "python"
    }
  },
  "cells": [
    {
      "cell_type": "markdown",
      "metadata": {
        "id": "view-in-github",
        "colab_type": "text"
      },
      "source": [
        "<a href=\"https://colab.research.google.com/github/joaoavelaar/Paradigmas_de_Linguagens_de_Programacao/blob/main/Exemplo_Dicionario_01.ipynb\" target=\"_parent\"><img src=\"https://colab.research.google.com/assets/colab-badge.svg\" alt=\"Open In Colab\"/></a>"
      ]
    },
    {
      "cell_type": "code",
      "execution_count": null,
      "metadata": {
        "colab": {
          "base_uri": "https://localhost:8080/"
        },
        "id": "-rzDA5Vry1_0",
        "outputId": "9a8b943c-5e01-4225-a565-6c113981909b"
      },
      "outputs": [
        {
          "output_type": "stream",
          "name": "stdout",
          "text": [
            "Digite o CPF: 000000\n",
            "Digite o nome: joao\n",
            "Digite a idade: 19\n",
            "Digite o telefone: 989407300\n",
            "Deseja continuar? (s/n): n\n",
            "000000 joao 19 989407300\n"
          ]
        }
      ],
      "source": [
        "# Crie um dicionário que é uma agenda e coloque nele os seguintes dados: chave (cpf),\n",
        "# nome, idade, telefone. O programa deve ler um número indeterminado de dados, criar a\n",
        "# agenda e imprimir todos os itens do dicionário no formato chave: nome, idade, fone.\n",
        "\n",
        "def main():\n",
        "    # Cria um dicionário vazio\n",
        "    agenda = {}\n",
        "\n",
        "    # Lê os dados da agenda\n",
        "    while True:\n",
        "        cpf = input(\"Digite o CPF: \")\n",
        "        nome = input(\"Digite o nome: \")\n",
        "        idade = input(\"Digite a idade: \")\n",
        "        telefone = input(\"Digite o telefone: \")\n",
        "\n",
        "        # Adiciona os dados ao dicionário\n",
        "        agenda[cpf] = {\n",
        "            \"nome\": nome,\n",
        "            \"idade\": idade,\n",
        "            \"telefone\": telefone,\n",
        "        }\n",
        "        # Pergunta se o usuário deseja continuar\n",
        "        continuar = input(\"Deseja continuar? (s/n): \")\n",
        "        if continuar != \"s\":\n",
        "            break\n",
        "\n",
        "    # Imprime os itens do dicionário\n",
        "    for cpf, contato in agenda.items():\n",
        "        print(cpf, contato[\"nome\"], contato[\"idade\"], contato[\"telefone\"])\n",
        "\n",
        "if __name__ == \"__main__\":\n",
        "    main()\n"
      ]
    }
  ]
}